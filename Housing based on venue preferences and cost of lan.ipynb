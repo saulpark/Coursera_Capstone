{
    "cells": [
        {
            "metadata": {
                "collapsed": true
            },
            "cell_type": "markdown",
            "source": "<h1>Housing based on venue preferences and cost of land</h1>"
        },
        {
            "metadata": {},
            "cell_type": "markdown",
            "source": "<p>Buying a house is one of the big financial decision one person does in his life,  in this desition is very difficult to be impartial due to the emotional implications persons have at the moment to choose a neighborhood and a house/apartment. In order to have a more logistic approximation to the decision of where to buy a house, in this study I want to propose an initial approximation that takes into account the venue\u2019s preferences of a person, and the average land prices of each neighborhood in a city.</p>\n</br>\n<p>In order to  choose a house the most important characteristics persons consider based on the study of House Repay (https://www.fastrepayhomeloan.com.au/7-factors-to-consider-when-buying-a-house/) are:\nLocation:</p>\n</br>\n<p>-Neighborhood</p>\n<p>-Schools and Colleges</p>\n<p>-Infrastructure (transportation, connectivity with other neighborhoods)</p>\n<p>-Crime (crime index)</p>\n<p>-House inspection</p>\n<p>-Green open space</p>\n</br>\n<p>In this evaluation, the objective will be to produce personalized results based on preferences of a given person, this means the previously described factors will be grouped in order to simplify the process of determining the best locations that accomplish the preferences of a person, and the price per square foot on each neighborhood will be included. Additionally, since the information will be at the neighborhood level, specific data like location and house inspection not will be included. The information about venues will be based on personal preferences this means schools/colleges and green spaces will be important only in those cases in which the persons consider this as an important preference. Finally, crime data and infrastructure data not will be included since they are considered out of the scope of this project, but future versions of the model can be included in order to refine the result of the model.</p>"
        },
        {
            "metadata": {},
            "cell_type": "markdown",
            "source": "<h1>Data Description</h1>\n"
        },
        {
            "metadata": {},
            "cell_type": "markdown",
            "source": "In this case de case of study in order to create the model will be the information about the city of Madrid in Spain. In order to create the model the information will be at the start in four different datasets.\n\n-The first dataset will be the price of the square foot on each neighborhood in Madrid city(https://www.idealista.com/sala-de-prensa/informes-precio-vivienda/venta/madrid-comunidad/madrid-provincia/madrid/).\n\n-The second dataset is the location data of each neighborhood that will be obtained using geopy. \n\n-The third dataset is the venue\u2019s information of each neighborhood where foursquare API will be used.\n\n-Finally, the last dataset will be the user preferences defined by a user that will be used in the process in order to filter the possible results to obtain the desired result.  \n"
        },
        {
            "metadata": {},
            "cell_type": "code",
            "source": "",
            "execution_count": null,
            "outputs": []
        }
    ],
    "metadata": {
        "kernelspec": {
            "name": "python3",
            "display_name": "Python 3.6",
            "language": "python"
        },
        "language_info": {
            "name": "python",
            "version": "3.6.9",
            "mimetype": "text/x-python",
            "codemirror_mode": {
                "name": "ipython",
                "version": 3
            },
            "pygments_lexer": "ipython3",
            "nbconvert_exporter": "python",
            "file_extension": ".py"
        }
    },
    "nbformat": 4,
    "nbformat_minor": 1
}